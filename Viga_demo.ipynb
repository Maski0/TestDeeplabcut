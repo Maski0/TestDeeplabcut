{
  "nbformat": 4,
  "nbformat_minor": 0,
  "metadata": {
    "colab": {
      "name": "Viga-demo.ipynb",
      "provenance": [],
      "collapsed_sections": [],
      "authorship_tag": "ABX9TyOAoqzpUwTzFXhgwjAk+F+6",
      "include_colab_link": true
    },
    "kernelspec": {
      "name": "python3",
      "display_name": "Python 3"
    },
    "language_info": {
      "name": "python"
    },
    "accelerator": "GPU"
  },
  "cells": [
    {
      "cell_type": "markdown",
      "metadata": {
        "id": "view-in-github",
        "colab_type": "text"
      },
      "source": [
        "<a href=\"https://colab.research.google.com/github/Maski0/Viga-DLC/blob/main/Viga_demo.ipynb\" target=\"_parent\"><img src=\"https://colab.research.google.com/assets/colab-badge.svg\" alt=\"Open In Colab\"/></a>"
      ]
    },
    {
      "cell_type": "markdown",
      "source": [
        "#Taining Part\n",
        "After lableling the frames of all the videos in local desktop using DLC,Next step is to train, I then cloned the project folder (which was created using `deepcutlab.create_project()` )"
      ],
      "metadata": {
        "id": "41T_PtQqUual"
      }
    },
    {
      "cell_type": "markdown",
      "source": [
        "## First, go to \"Runtime\" ->\"change runtime type\"-> select \"GPU\" (To train using GPU)"
      ],
      "metadata": {
        "id": "rlwwcPee4jry"
      }
    },
    {
      "cell_type": "code",
      "execution_count": null,
      "metadata": {
        "id": "LDXwZgUmUHwH"
      },
      "outputs": [],
      "source": [
        "!git clone -l -s https://github.com/Maski0/TestDeeplabcut.git myrepo-repo\n",
        "%cd myrepo-repo\n",
        "!ls"
      ]
    },
    {
      "cell_type": "markdown",
      "source": [
        "Installing Deeplabcut in the environment and importing it \n",
        "\n",
        "`Note: click \"RESTART RUNTIME\" which is displayed after install `"
      ],
      "metadata": {
        "id": "yJBlqJ5Z4RXL"
      }
    },
    {
      "cell_type": "code",
      "source": [
        "!pip install deeplabcut"
      ],
      "metadata": {
        "id": "9rXe_r0FUN9H"
      },
      "execution_count": null,
      "outputs": []
    },
    {
      "cell_type": "code",
      "source": [
        "import deeplabcut"
      ],
      "metadata": {
        "id": "juZQUiRuUTUI"
      },
      "execution_count": null,
      "outputs": []
    },
    {
      "cell_type": "markdown",
      "source": [
        "loads the data of the project"
      ],
      "metadata": {
        "id": "5DqqJArd5TIP"
      }
    },
    {
      "cell_type": "code",
      "source": [
        "path_config = '/content/myrepo-repo/config.yaml'\n",
        "deeplabcut.load_demo_data(path_config)"
      ],
      "metadata": {
        "id": "XW9AdGLKUTtS"
      },
      "execution_count": null,
      "outputs": []
    },
    {
      "cell_type": "markdown",
      "source": [
        "Training the network using the function"
      ],
      "metadata": {
        "id": "Zy1rrPt05biR"
      }
    },
    {
      "cell_type": "code",
      "source": [
        "deeplabcut.train_network(path_config, shuffle=1, displayiters=500,saveiters=500, maxiters=20000)"
      ],
      "metadata": {
        "id": "JKji5uzsUUZF"
      },
      "execution_count": null,
      "outputs": []
    },
    {
      "cell_type": "markdown",
      "source": [
        "evaluating the trained model for a specific shuffle/shuffles at a particular state or all the states on the data set (images)\n",
        "and stores the results as .csv file in a subdirectory under **evaluation-results**"
      ],
      "metadata": {
        "id": "Q3zGa-Jv57je"
      }
    },
    {
      "cell_type": "code",
      "source": [
        "%matplotlib notebook\n",
        "deeplabcut.evaluate_network(path_config,plotting=True)"
      ],
      "metadata": {
        "id": "RQdGgitTUZT_"
      },
      "execution_count": null,
      "outputs": []
    },
    {
      "cell_type": "markdown",
      "source": [
        "This analyzes the videos with the best evaluation result with the videos which we require."
      ],
      "metadata": {
        "id": "LrPCgeIL7Q5a"
      }
    },
    {
      "cell_type": "code",
      "source": [
        "videofile_path = ['/content/myrepo-repo/videos/Ostrichrun.mp4','/content/myrepo-repo/videos/HorseWalk.mp4','/content/myrepo-repo/videos/DogRun.mp4']\n",
        "deeplabcut.analyze_videos(path_config, videofile_path, videotype='.mp4')"
      ],
      "metadata": {
        "id": "Cn768W3lUcGS"
      },
      "execution_count": null,
      "outputs": []
    },
    {
      "cell_type": "markdown",
      "source": [
        "This is for visualiztion purpose and can be used to create a video in .mp4 format with labels predicted by the network. This video is saved in the same directory where the original video resides."
      ],
      "metadata": {
        "id": "_QgFXjAg77Go"
      }
    },
    {
      "cell_type": "code",
      "source": [
        "deeplabcut.create_labeled_video(path_config,videofile_path, draw_skeleton = True)"
      ],
      "metadata": {
        "id": "taIHBJoKUg7h"
      },
      "execution_count": null,
      "outputs": []
    },
    {
      "cell_type": "markdown",
      "source": [
        "this plots the trajectories of all the body parts across the entire video. Each body part is identified by a unique color."
      ],
      "metadata": {
        "id": "tdX5lbOS8WKi"
      }
    },
    {
      "cell_type": "code",
      "source": [
        "deeplabcut.plot_trajectories(path_config,videofile_path)"
      ],
      "metadata": {
        "id": "AZ-uK-M9UjM5"
      },
      "execution_count": null,
      "outputs": []
    },
    {
      "cell_type": "markdown",
      "source": [
        "Just to download the project folder"
      ],
      "metadata": {
        "id": "sdalYauN8jsk"
      }
    },
    {
      "cell_type": "code",
      "source": [
        "!zip -r /content/myrepo-repowithfinished.zip /content/myrepo-repo"
      ],
      "metadata": {
        "id": "B2RYwUO0zuOr"
      },
      "execution_count": null,
      "outputs": []
    }
  ]
}